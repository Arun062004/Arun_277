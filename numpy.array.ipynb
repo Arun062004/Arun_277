{
 "cells": [
  {
   "cell_type": "code",
   "execution_count": 1,
   "id": "8b61a361-e7a2-414a-90d9-362160ccc707",
   "metadata": {},
   "outputs": [],
   "source": [
    "import numpy as np"
   ]
  },
  {
   "cell_type": "code",
   "execution_count": 5,
   "id": "c28b6995-36f9-45e5-b141-0554d3f78498",
   "metadata": {},
   "outputs": [
    {
     "name": "stdout",
     "output_type": "stream",
     "text": [
      "['A' '33' '45' '67']\n",
      "<class 'numpy.ndarray'>\n",
      "<U11\n"
     ]
    }
   ],
   "source": [
    "x = np.array([\"A\",33,45,67])\n",
    "print(x)\n",
    "print(type(x))\n",
    "print(x.dtype)\n"
   ]
  },
  {
   "cell_type": "code",
   "execution_count": 17,
   "id": "3fd32afb-596e-479c-aaee-5513de61a86d",
   "metadata": {},
   "outputs": [
    {
     "name": "stdout",
     "output_type": "stream",
     "text": [
      "[[23 45]\n",
      " [34 65]]\n",
      "<class 'numpy.ndarray'>\n",
      "(2, 2)\n"
     ]
    }
   ],
   "source": [
    "#create a 2d array\n",
    "a2 = np.array([[23,45],[34,65]])\n",
    "print(a2)\n",
    "print(type(a2))\n",
    "print(a2.shape)"
   ]
  },
  {
   "cell_type": "code",
   "execution_count": 36,
   "id": "f061670a-9be0-44ef-8f76-c773ce53546c",
   "metadata": {},
   "outputs": [
    {
     "name": "stdout",
     "output_type": "stream",
     "text": [
      "[[22 33]\n",
      " [44 55]]\n",
      "<class 'numpy.ndarray'>\n"
     ]
    }
   ],
   "source": [
    "#reshape array\n",
    "a = np.array([22,33,44,55])\n",
    "b = a.reshape(2,2)\n",
    "print(b)\n",
    "print(type(a))"
   ]
  },
  {
   "cell_type": "code",
   "execution_count": 44,
   "id": "19313c14-2b9f-4d57-8816-c29c56ca72c3",
   "metadata": {},
   "outputs": [
    {
     "name": "stdout",
     "output_type": "stream",
     "text": [
      "[1230 1231 1232 1233]\n",
      "<class 'numpy.ndarray'>\n"
     ]
    }
   ],
   "source": [
    "c = np.arange(1230,1234)\n",
    "print(c)\n",
    "print(type(c))"
   ]
  },
  {
   "cell_type": "code",
   "execution_count": 54,
   "id": "ea31de15-827a-4669-ae2c-77fa06f1fd06",
   "metadata": {},
   "outputs": [
    {
     "data": {
      "text/plain": [
       "array([[ 3,  4,  5],\n",
       "       [ 3, 55,  6],\n",
       "       [33, 44, 50]])"
      ]
     },
     "execution_count": 54,
     "metadata": {},
     "output_type": "execute_result"
    }
   ],
   "source": [
    "#mathematical operation on rows and columns\n",
    "a2=np.array([[3,4,5],[3,55,6],[33,44,50]])\n",
    "a2"
   ]
  },
  {
   "cell_type": "code",
   "execution_count": 56,
   "id": "788680d9-c4b5-4c4e-adfd-31ead20a2b86",
   "metadata": {},
   "outputs": [
    {
     "name": "stdout",
     "output_type": "stream",
     "text": [
      "[ 12  64 127]\n",
      "[ 39 103  61]\n"
     ]
    }
   ],
   "source": [
    "print(a2.sum(axis = 1))\n",
    "print(a2.sum(axis = 0))"
   ]
  },
  {
   "cell_type": "code",
   "execution_count": 58,
   "id": "777430fd-76ae-4419-ac72-667cd3f51c36",
   "metadata": {},
   "outputs": [
    {
     "name": "stdout",
     "output_type": "stream",
     "text": [
      "[ 4.         21.33333333 42.33333333]\n",
      "[13.         34.33333333 20.33333333]\n"
     ]
    }
   ],
   "source": [
    "a2\n",
    "print(np.mean(a2, axis = 1))\n",
    "print(np.mean(a2, axis = 0))"
   ]
  },
  {
   "cell_type": "code",
   "execution_count": 60,
   "id": "f1853c1a-9d14-4686-a20f-b70804693541",
   "metadata": {},
   "outputs": [
    {
     "name": "stdout",
     "output_type": "stream",
     "text": [
      "[[ 3  4  5]\n",
      " [ 3 55  6]\n",
      " [33 44 50]]\n"
     ]
    }
   ],
   "source": [
    "#matrix operations\n",
    "a3=np.array([[3,4,5],[3,55,6],[33,44,50]])\n",
    "print(a3)\n",
    "np.fill_diagonal(a3,0)\n",
    "\n"
   ]
  },
  {
   "cell_type": "code",
   "execution_count": 72,
   "id": "6e33b878-c25d-4ab0-b003-1fcd7267d381",
   "metadata": {},
   "outputs": [
    {
     "name": "stdout",
     "output_type": "stream",
     "text": [
      "[[1573 1815]\n",
      " [2541 2981]]\n"
     ]
    }
   ],
   "source": [
    "import numpy as np\n",
    "a = np.array([[22,33],[33,55]])\n",
    "b = np.array([[22,12],[33,47]])\n",
    "c = np.matmul(a,b)\n",
    "print(c)\n"
   ]
  },
  {
   "cell_type": "code",
   "execution_count": 74,
   "id": "fb8642c4-dfac-4534-bbb3-ebab48220905",
   "metadata": {},
   "outputs": [
    {
     "name": "stdout",
     "output_type": "stream",
     "text": [
      "[[22 33]\n",
      " [33 55]]\n",
      "[[22 33]\n",
      " [12 47]]\n"
     ]
    }
   ],
   "source": [
    "print(a.T)\n",
    "print(b.T)\n"
   ]
  },
  {
   "cell_type": "code",
   "execution_count": 84,
   "id": "4a8773e0-a3d9-4b89-aff7-db8fdc48c2a2",
   "metadata": {},
   "outputs": [
    {
     "data": {
      "text/plain": [
       "array([[333, 555, 666],\n",
       "       [111, 222, 999],\n",
       "       [123, 456, 789],\n",
       "       [ 44,  25,  69]])"
      ]
     },
     "execution_count": 84,
     "metadata": {},
     "output_type": "execute_result"
    }
   ],
   "source": [
    "a4 = np.array([[333,555,666],[111,222,999],[123,456,789],[44,25,69]])\n",
    "a4"
   ]
  },
  {
   "cell_type": "code",
   "execution_count": 90,
   "id": "c6d225a4-baed-40df-8654-1c1e1640fde9",
   "metadata": {},
   "outputs": [
    {
     "data": {
      "text/plain": [
       "array([[666],\n",
       "       [999],\n",
       "       [789],\n",
       "       [ 69]])"
      ]
     },
     "execution_count": 90,
     "metadata": {},
     "output_type": "execute_result"
    }
   ],
   "source": [
    "#slicing of array\n",
    "a4[:,2:]"
   ]
  },
  {
   "cell_type": "code",
   "execution_count": 104,
   "id": "953f7938-5724-49d8-99ec-15966435b668",
   "metadata": {},
   "outputs": [
    {
     "data": {
      "text/plain": [
       "array([[555, 666],\n",
       "       [222, 999],\n",
       "       [456, 789],\n",
       "       [ 25,  69]])"
      ]
     },
     "execution_count": 104,
     "metadata": {},
     "output_type": "execute_result"
    }
   ],
   "source": [
    "a4[0:,1:]"
   ]
  },
  {
   "cell_type": "code",
   "execution_count": 106,
   "id": "5d25c654-5ead-4cea-9df4-98fb835e38c2",
   "metadata": {},
   "outputs": [
    {
     "data": {
      "text/plain": [
       "array([[111, 222],\n",
       "       [123, 456]])"
      ]
     },
     "execution_count": 106,
     "metadata": {},
     "output_type": "execute_result"
    }
   ],
   "source": [
    "a4[1:3,0:2]"
   ]
  },
  {
   "cell_type": "code",
   "execution_count": null,
   "id": "f5a1eee0-c938-49fb-a093-6815021ca5ec",
   "metadata": {},
   "outputs": [],
   "source": []
  }
 ],
 "metadata": {
  "kernelspec": {
   "display_name": "Python [conda env:base] *",
   "language": "python",
   "name": "conda-base-py"
  },
  "language_info": {
   "codemirror_mode": {
    "name": "ipython",
    "version": 3
   },
   "file_extension": ".py",
   "mimetype": "text/x-python",
   "name": "python",
   "nbconvert_exporter": "python",
   "pygments_lexer": "ipython3",
   "version": "3.12.7"
  }
 },
 "nbformat": 4,
 "nbformat_minor": 5
}
