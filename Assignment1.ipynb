{
 "cells": [
  {
   "cell_type": "code",
   "execution_count": 1,
   "id": "d9a165c0-4dce-48c6-85b6-cce8a9fbb686",
   "metadata": {},
   "outputs": [
    {
     "name": "stdout",
     "output_type": "stream",
     "text": [
      "integer_var: 42, Type: <class 'int'>\n",
      "float_var: 3.14, Type: <class 'float'>\n",
      "string_var: Hello, World!, Type: <class 'str'>\n",
      "boolean_var: True, Type: <class 'bool'>\n"
     ]
    }
   ],
   "source": [
    "# Declare variables of different data types\n",
    "integer_var = 42\n",
    "float_var = 3.14\n",
    "string_var = \"Hello, World!\"\n",
    "boolean_var = True\n",
    "\n",
    "# Print each variable and its type\n",
    "print(f\"integer_var: {integer_var}, Type: {type(integer_var)}\")\n",
    "print(f\"float_var: {float_var}, Type: {type(float_var)}\")\n",
    "print(f\"string_var: {string_var}, Type: {type(string_var)}\")\n",
    "print(f\"boolean_var: {boolean_var}, Type: {type(boolean_var)}\")"
   ]
  },
  {
   "cell_type": "code",
   "execution_count": null,
   "id": "ad25b1e0-1d47-456b-b09e-712ca03f4434",
   "metadata": {},
   "outputs": [],
   "source": []
  }
 ],
 "metadata": {
  "kernelspec": {
   "display_name": "Python [conda env:base] *",
   "language": "python",
   "name": "conda-base-py"
  },
  "language_info": {
   "codemirror_mode": {
    "name": "ipython",
    "version": 3
   },
   "file_extension": ".py",
   "mimetype": "text/x-python",
   "name": "python",
   "nbconvert_exporter": "python",
   "pygments_lexer": "ipython3",
   "version": "3.12.7"
  }
 },
 "nbformat": 4,
 "nbformat_minor": 5
}
